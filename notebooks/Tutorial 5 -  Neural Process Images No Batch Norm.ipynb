{
 "cells": [
  {
   "cell_type": "markdown",
   "metadata": {
    "toc": true
   },
   "source": [
    "<h1>Table of Contents<span class=\"tocSkip\"></span></h1>\n",
    "<div class=\"toc\"><ul class=\"toc-item\"><li><span><a href=\"#Environment\" data-toc-modified-id=\"Environment-1\"><span class=\"toc-item-num\">1&nbsp;&nbsp;</span>Environment</a></span></li><li><span><a href=\"#Training\" data-toc-modified-id=\"Training-2\"><span class=\"toc-item-num\">2&nbsp;&nbsp;</span>Training</a></span></li><li><span><a href=\"#Missing-at-Random\" data-toc-modified-id=\"Missing-at-Random-3\"><span class=\"toc-item-num\">3&nbsp;&nbsp;</span>Missing at Random</a></span></li><li><span><a href=\"#Structured-Missing\" data-toc-modified-id=\"Structured-Missing-4\"><span class=\"toc-item-num\">4&nbsp;&nbsp;</span>Structured Missing</a></span><ul class=\"toc-item\"><li><span><a href=\"#Horizontal-Half-Mask\" data-toc-modified-id=\"Horizontal-Half-Mask-4.1\"><span class=\"toc-item-num\">4.1&nbsp;&nbsp;</span>Horizontal Half Mask</a></span></li><li><span><a href=\"#Vertical-Half-Mask\" data-toc-modified-id=\"Vertical-Half-Mask-4.2\"><span class=\"toc-item-num\">4.2&nbsp;&nbsp;</span>Vertical Half Mask</a></span></li></ul></li><li><span><a href=\"#Oneshot-Prediction\" data-toc-modified-id=\"Oneshot-Prediction-5\"><span class=\"toc-item-num\">5&nbsp;&nbsp;</span>Oneshot Prediction</a></span></li><li><span><a href=\"#Autoregressive-Prediction\" data-toc-modified-id=\"Autoregressive-Prediction-6\"><span class=\"toc-item-num\">6&nbsp;&nbsp;</span>Autoregressive Prediction</a></span></li></ul></div>"
   ]
  },
  {
   "cell_type": "markdown",
   "metadata": {},
   "source": [
    "# Tutorial 5 :  Neural Process Images\n",
    "\n",
    "Last Update : 1 September 2019\n",
    "\n",
    "**Aim**: \n",
    "- Test the best models (CCP and AttnNP) on image inputs."
   ]
  },
  {
   "cell_type": "code",
   "execution_count": 1,
   "metadata": {
    "ExecuteTime": {
     "end_time": "2019-11-10T00:12:56.243295Z",
     "start_time": "2019-11-10T00:12:56.240956Z"
    }
   },
   "outputs": [],
   "source": [
    "N_THREADS = 8\n",
    "# Nota Bene : notebooks don't deallocate GPU memory\n",
    "IS_FORCE_CPU = True # can also be set in the trainer"
   ]
  },
  {
   "cell_type": "markdown",
   "metadata": {},
   "source": [
    "## Environment"
   ]
  },
  {
   "cell_type": "code",
   "execution_count": 2,
   "metadata": {
    "ExecuteTime": {
     "end_time": "2019-11-10T00:12:56.293563Z",
     "start_time": "2019-11-10T00:12:56.244599Z"
    },
    "scrolled": true
   },
   "outputs": [
    {
     "name": "stdout",
     "output_type": "stream",
     "text": [
      "/private/home/yannd/projects/Neural-Process-Family\n"
     ]
    }
   ],
   "source": [
    "cd .."
   ]
  },
  {
   "cell_type": "code",
   "execution_count": 3,
   "metadata": {
    "ExecuteTime": {
     "end_time": "2019-11-10T00:12:57.145054Z",
     "start_time": "2019-11-10T00:12:56.359459Z"
    }
   },
   "outputs": [
    {
     "data": {
      "application/javascript": [
       "IPython.notebook.set_autosave_interval(600000)"
      ]
     },
     "metadata": {},
     "output_type": "display_data"
    },
    {
     "name": "stdout",
     "output_type": "stream",
     "text": [
      "Autosaving every 600 seconds\n"
     ]
    },
    {
     "data": {
      "text/html": [
       " <style> .output_png {display: table-cell; text-align: center; margin:auto; }\n",
       ".prompt display:none;}  </style>"
      ],
      "text/plain": [
       "<IPython.core.display.HTML object>"
      ]
     },
     "metadata": {},
     "output_type": "display_data"
    }
   ],
   "source": [
    "%autosave 600\n",
    "%matplotlib inline\n",
    "%config InlineBackend.figure_format = 'retina'\n",
    "\n",
    "# CENTER PLOTS\n",
    "from IPython.core.display import HTML\n",
    "display(HTML(\"\"\" <style> .output_png {display: table-cell; text-align: center; margin:auto; }\n",
    ".prompt display:none;}  </style>\"\"\"))\n",
    "\n",
    "import os\n",
    "if IS_FORCE_CPU:\n",
    "    os.environ['CUDA_VISIBLE_DEVICES'] = \"\"\n",
    "    \n",
    "import sys\n",
    "sys.path.append(\"notebooks\")\n",
    "\n",
    "import numpy as np\n",
    "import matplotlib.pyplot as plt\n",
    "import torch\n",
    "torch.set_num_threads(N_THREADS)"
   ]
  },
  {
   "cell_type": "markdown",
   "metadata": {},
   "source": [
    "# Dataset \n",
    "\n",
    "- MNIST\n",
    "- CelebA32\n",
    "- CelebA64"
   ]
  },
  {
   "cell_type": "code",
   "execution_count": 4,
   "metadata": {
    "ExecuteTime": {
     "end_time": "2019-11-10T00:12:59.357474Z",
     "start_time": "2019-11-10T00:12:57.832919Z"
    }
   },
   "outputs": [],
   "source": [
    "from utils.data import get_dataset\n",
    "from utils.data.helpers import train_dev_split"
   ]
  },
  {
   "cell_type": "code",
   "execution_count": 7,
   "metadata": {
    "ExecuteTime": {
     "end_time": "2019-11-09T09:00:01.000074Z",
     "start_time": "2019-11-09T08:59:59.769086Z"
    },
    "scrolled": false
   },
   "outputs": [
    {
     "name": "stderr",
     "output_type": "stream",
     "text": [
      "INFO:utils.data.imgs:Resizing ZeroShotMultiMNIST ...\n",
      "INFO:utils.data.imgs:Resizing ZeroShotMultiMNIST ...\n",
      "INFO:utils.data.imgs:Resizing ZeroShotMultiMNIST ...\n",
      "INFO:utils.data.imgs:Resizing ZeroShotMultiMNIST ...\n"
     ]
    },
    {
     "ename": "NameError",
     "evalue": "name 'mnist_train' is not defined",
     "output_type": "error",
     "traceback": [
      "\u001b[0;31m---------------------------------------------------------------------------\u001b[0m",
      "\u001b[0;31mNameError\u001b[0m                                 Traceback (most recent call last)",
      "\u001b[0;32m<ipython-input-7-c06ff6d3d703>\u001b[0m in \u001b[0;36m<module>\u001b[0;34m\u001b[0m\n\u001b[1;32m      8\u001b[0m \u001b[0;34m\u001b[0m\u001b[0m\n\u001b[1;32m      9\u001b[0m \u001b[0;31m# celeba64 not fully trained yet\u001b[0m\u001b[0;34m\u001b[0m\u001b[0;34m\u001b[0m\u001b[0;34m\u001b[0m\u001b[0m\n\u001b[0;32m---> 10\u001b[0;31m \u001b[0mtrain_datasets_32\u001b[0m \u001b[0;34m=\u001b[0m \u001b[0;34m{\u001b[0m\u001b[0;34m\"mnist\"\u001b[0m\u001b[0;34m:\u001b[0m\u001b[0mmnist_train\u001b[0m\u001b[0;34m,\u001b[0m \u001b[0;34m\"celeba32\"\u001b[0m\u001b[0;34m:\u001b[0m\u001b[0mceleba32_train\u001b[0m\u001b[0;34m}\u001b[0m\u001b[0;34m\u001b[0m\u001b[0;34m\u001b[0m\u001b[0m\n\u001b[0m\u001b[1;32m     11\u001b[0m \u001b[0mtest_datasets_32\u001b[0m \u001b[0;34m=\u001b[0m \u001b[0;34m{\u001b[0m\u001b[0;34m\"mnist\"\u001b[0m\u001b[0;34m:\u001b[0m\u001b[0mmnist_test\u001b[0m\u001b[0;34m,\u001b[0m \u001b[0;34m\"celeba32\"\u001b[0m\u001b[0;34m:\u001b[0m\u001b[0mceleba32_test\u001b[0m\u001b[0;34m}\u001b[0m\u001b[0;34m\u001b[0m\u001b[0;34m\u001b[0m\u001b[0m\n\u001b[1;32m     12\u001b[0m \u001b[0mtrain_datasets_64\u001b[0m \u001b[0;34m=\u001b[0m \u001b[0;34m{\u001b[0m\u001b[0;34m\"celeba64\"\u001b[0m\u001b[0;34m:\u001b[0m\u001b[0mceleba64_train\u001b[0m\u001b[0;34m,\u001b[0m \u001b[0;34m\"zs-multi-mnist\"\u001b[0m\u001b[0;34m:\u001b[0m\u001b[0mzs_mmnist_train\u001b[0m\u001b[0;34m}\u001b[0m\u001b[0;34m\u001b[0m\u001b[0;34m\u001b[0m\u001b[0m\n",
      "\u001b[0;31mNameError\u001b[0m: name 'mnist_train' is not defined"
     ]
    }
   ],
   "source": [
    "#celeba32_train, celeba32_test = train_dev_split(get_dataset(\"celeba32\")(), dev_size=0.1, is_stratify=False)\n",
    "#celeba64_train, celeba64_test = train_dev_split(get_dataset(\"celeba64\")(), dev_size=0.1, is_stratify=False)\n",
    "#svhn_train, svhn_test = get_dataset(\"svhn\")(split=\"train\"), get_dataset(\"svhn\")(split=\"test\")\n",
    "#mnist_train, mnist_test = get_dataset(\"mnist\")(split=\"train\"), get_dataset(\"mnist\")(split=\"test\")\n",
    "zs_mmnist_train, zs_mmnist_test = get_dataset(\"zs-multi-mnist\")(split=\"train\"), get_dataset(\"zs-multi-mnist\")(split=\"test\")\n",
    "zs_mnist_train, zs_mnist_test = get_dataset(\"zs-mnist\")(split=\"train\"), get_dataset(\"zs-mnist\")(split=\"test\")\n",
    "\n",
    "\n",
    "# celeba64 not fully trained yet\n",
    "train_datasets_32 = {\"mnist\":mnist_train, \"celeba32\":celeba32_train}\n",
    "test_datasets_32 = {\"mnist\":mnist_test, \"celeba32\":celeba32_test}\n",
    "train_datasets_64 = {\"celeba64\":celeba64_train, \"zs-multi-mnist\":zs_mmnist_train}\n",
    "test_datasets_64 = {\"celeba64\":celeba64_train, \"zs-multi-mnist\":zs_mmnist_test}"
   ]
  },
  {
   "cell_type": "code",
   "execution_count": 8,
   "metadata": {
    "ExecuteTime": {
     "end_time": "2019-11-09T09:00:06.219282Z",
     "start_time": "2019-11-09T09:00:06.216784Z"
    }
   },
   "outputs": [],
   "source": [
    "from utils.visualize import plot_dataset_samples_imgs, plot_losses #, plot_posterior_samples_imgs"
   ]
  },
  {
   "cell_type": "code",
   "execution_count": null,
   "metadata": {
    "ExecuteTime": {
     "end_time": "2019-11-09T08:21:18.226408Z",
     "start_time": "2019-11-09T08:21:17.982Z"
    }
   },
   "outputs": [],
   "source": [
    "plot_dataset_samples_imgs(celeba32_test, figsize=(9,5))"
   ]
  },
  {
   "cell_type": "code",
   "execution_count": null,
   "metadata": {
    "ExecuteTime": {
     "end_time": "2019-11-09T08:21:18.227436Z",
     "start_time": "2019-11-09T08:21:17.984Z"
    }
   },
   "outputs": [],
   "source": [
    "plot_dataset_samples_imgs(celeba64_test, figsize=(9,5))"
   ]
  },
  {
   "cell_type": "code",
   "execution_count": null,
   "metadata": {
    "ExecuteTime": {
     "end_time": "2019-11-09T08:21:18.228371Z",
     "start_time": "2019-11-09T08:21:17.985Z"
    }
   },
   "outputs": [],
   "source": [
    "plot_dataset_samples_imgs(mnist_test, figsize=(9,5))"
   ]
  },
  {
   "cell_type": "code",
   "execution_count": null,
   "metadata": {
    "ExecuteTime": {
     "end_time": "2019-11-09T08:21:18.229331Z",
     "start_time": "2019-11-09T08:21:17.987Z"
    }
   },
   "outputs": [],
   "source": [
    "plot_dataset_samples_imgs(zs_mmnist_train, figsize=(9,5))\n",
    "plot_dataset_samples_imgs(zs_mmnist_test, figsize=(9,5))"
   ]
  },
  {
   "cell_type": "code",
   "execution_count": 12,
   "metadata": {
    "ExecuteTime": {
     "end_time": "2019-11-09T09:00:53.875668Z",
     "start_time": "2019-11-09T09:00:53.384565Z"
    }
   },
   "outputs": [
    {
     "data": {
      "image/png": "[encoded data removed]",
      "text/plain": [
       "<Figure size 648x360 with 1 Axes>"
      ]
     },
     "metadata": {
      "image/png": {
       "height": 286,
       "width": 286
      },
      "needs_background": "light"
     },
     "output_type": "display_data"
    },
    {
     "data": {
      "image/png": "[encoded data removed]",
      "text/plain": [
       "<Figure size 648x360 with 1 Axes>"
      ]
     },
     "metadata": {
      "image/png": {
       "height": 286,
       "width": 286
      },
      "needs_background": "light"
     },
     "output_type": "display_data"
    }
   ],
   "source": [
    "plot_dataset_samples_imgs(zs_mnist_train, figsize=(9,5))\n",
    "plot_dataset_samples_imgs(zs_mnist_test, figsize=(9,5),seed=249)"
   ]
  },
  {
   "cell_type": "code",
   "execution_count": null,
   "metadata": {
    "ExecuteTime": {
     "end_time": "2019-11-09T08:21:18.231190Z",
     "start_time": "2019-11-09T08:21:17.990Z"
    }
   },
   "outputs": [],
   "source": [
    "from neuralproc.utils.datasplit import GridCntxtTrgtGetter, RandomMasker, no_masker, half_masker\n",
    "\n",
    "# same as in previous tutorials but uses masks rather than indices\n",
    "get_cntxt_trgt = GridCntxtTrgtGetter(context_masker=RandomMasker(min_nnz=0.01, max_nnz=0.5),\n",
    "                                      target_masker=no_masker,\n",
    "                                      is_add_cntxts_to_trgts=False)"
   ]
  },
  {
   "cell_type": "markdown",
   "metadata": {},
   "source": [
    "# Model"
   ]
  },
  {
   "cell_type": "code",
   "execution_count": 8,
   "metadata": {
    "ExecuteTime": {
     "end_time": "2019-11-09T08:21:18.334904Z",
     "start_time": "2019-11-09T08:21:18.332867Z"
    }
   },
   "outputs": [],
   "source": [
    "X_DIM = 2  # 2D spatial input "
   ]
  },
  {
   "cell_type": "code",
   "execution_count": 9,
   "metadata": {
    "ExecuteTime": {
     "end_time": "2019-11-09T08:21:18.364194Z",
     "start_time": "2019-11-09T08:21:18.336199Z"
    }
   },
   "outputs": [
    {
     "ename": "ModuleNotFoundError",
     "evalue": "No module named 'neuralproc'",
     "output_type": "error",
     "traceback": [
      "\u001b[0;31m---------------------------------------------------------------------------\u001b[0m",
      "\u001b[0;31mModuleNotFoundError\u001b[0m                       Traceback (most recent call last)",
      "\u001b[0;32m<ipython-input-9-9888e13010fb>\u001b[0m in \u001b[0;36m<module>\u001b[0;34m\u001b[0m\n\u001b[1;32m      1\u001b[0m \u001b[0;32mfrom\u001b[0m \u001b[0mfunctools\u001b[0m \u001b[0;32mimport\u001b[0m \u001b[0mpartial\u001b[0m\u001b[0;34m\u001b[0m\u001b[0;34m\u001b[0m\u001b[0m\n\u001b[0;32m----> 2\u001b[0;31m \u001b[0;32mfrom\u001b[0m \u001b[0mneuralproc\u001b[0m \u001b[0;32mimport\u001b[0m \u001b[0mRegularGridsConvolutionalProcess\u001b[0m\u001b[0;34m,\u001b[0m \u001b[0mAttentiveNeuralProcess\u001b[0m\u001b[0;34m,\u001b[0m \u001b[0mNeuralProcessLoss\u001b[0m\u001b[0;34m,\u001b[0m \u001b[0mConvolutionalProcess\u001b[0m\u001b[0;34m\u001b[0m\u001b[0;34m\u001b[0m\u001b[0m\n\u001b[0m\u001b[1;32m      3\u001b[0m \u001b[0;32mfrom\u001b[0m \u001b[0mneuralproc\u001b[0m\u001b[0;34m.\u001b[0m\u001b[0mpredefined\u001b[0m \u001b[0;32mimport\u001b[0m \u001b[0mUnetCNN\u001b[0m\u001b[0;34m,\u001b[0m \u001b[0mCNN\u001b[0m\u001b[0;34m,\u001b[0m \u001b[0mSelfAttention\u001b[0m\u001b[0;34m,\u001b[0m \u001b[0mMLP\u001b[0m\u001b[0;34m,\u001b[0m \u001b[0mResConvBlock\u001b[0m\u001b[0;34m\u001b[0m\u001b[0;34m\u001b[0m\u001b[0m\n\u001b[1;32m      4\u001b[0m \u001b[0;32mfrom\u001b[0m \u001b[0mneuralproc\u001b[0m \u001b[0;32mimport\u001b[0m \u001b[0mmerge_flat_input\u001b[0m\u001b[0;34m\u001b[0m\u001b[0;34m\u001b[0m\u001b[0m\n",
      "\u001b[0;31mModuleNotFoundError\u001b[0m: No module named 'neuralproc'"
     ]
    }
   ],
   "source": [
    "from functools import partial\n",
    "from neuralproc import RegularGridsConvolutionalProcess, AttentiveNeuralProcess, NeuralProcessLoss, ConvolutionalProcess\n",
    "from neuralproc.predefined import UnetCNN, CNN, SelfAttention, MLP, ResConvBlock\n",
    "from neuralproc import merge_flat_input"
   ]
  },
  {
   "cell_type": "code",
   "execution_count": null,
   "metadata": {
    "ExecuteTime": {
     "end_time": "2019-11-09T08:21:18.365692Z",
     "start_time": "2019-11-09T08:21:18.096Z"
    }
   },
   "outputs": [],
   "source": [
    "from train_imgs import get_model\n",
    "\n",
    "# models that take into account the grid\n",
    "models_grided_64 = {}\n",
    "models_grided_64[\"GridedCCP\"] = get_model(\"GridedCCP\", no_batchnorm=True, img_shape=(64,64))\n",
    "\n",
    "\n",
    "models_grided_32 = {}\n",
    "models_grided_32[\"GridedCCP\"] = get_model(\"GridedCCP\", no_batchnorm=True, img_shape=(32,32))"
   ]
  },
  {
   "cell_type": "code",
   "execution_count": null,
   "metadata": {
    "ExecuteTime": {
     "end_time": "2019-11-09T08:21:18.366640Z",
     "start_time": "2019-11-09T08:21:18.098Z"
    }
   },
   "outputs": [],
   "source": [
    "from utils.helpers import count_parameters\n",
    "    \n",
    "for k,v in models_grided.items():\n",
    "    print(k, \"- N Param:\", count_parameters(v(y_dim=3)))"
   ]
  },
  {
   "cell_type": "code",
   "execution_count": null,
   "metadata": {
    "ExecuteTime": {
     "end_time": "2019-11-09T08:21:18.367585Z",
     "start_time": "2019-11-09T08:21:18.100Z"
    }
   },
   "outputs": [],
   "source": [
    "def add_y_dim(models, datasets):\n",
    "    \"\"\"Add y _dim to all ofthe models depending on the dataset.\"\"\"\n",
    "    return {data_name: {model_name: partial(model, y_dim=data_train.shape[0]) \n",
    "                        for model_name, model in models.items()} \n",
    "            for data_name, data_train in datasets.items()}"
   ]
  },
  {
   "cell_type": "markdown",
   "metadata": {},
   "source": [
    "## Training\n",
    "\n",
    "The training procedure is the same as in [Tutorial 1 - Conditional Neural Process], refer to it for more details.\n",
    "\n",
    "[Tutorial 1 - Conditional Neural Process]: Tutorial%201%20-%20Conditional%20Neural%20Process.ipynb"
   ]
  },
  {
   "cell_type": "code",
   "execution_count": null,
   "metadata": {
    "ExecuteTime": {
     "end_time": "2019-11-09T08:21:18.368536Z",
     "start_time": "2019-11-09T08:21:18.230Z"
    }
   },
   "outputs": [],
   "source": [
    "from neuralproc import NeuralProcessLoss\n",
    "from utils.train import train_models\n",
    "from utils.data import cntxt_trgt_collate\n",
    "import skorch"
   ]
  },
  {
   "cell_type": "code",
   "execution_count": null,
   "metadata": {
    "ExecuteTime": {
     "end_time": "2019-11-09T08:21:18.369444Z",
     "start_time": "2019-11-09T08:21:18.232Z"
    }
   },
   "outputs": [],
   "source": [
    "trainers_grided_64 = train_models(train_datasets_64, \n",
    "                                 add_y_dim(models_grided_64, train_datasets_64),\n",
    "                                 NeuralProcessLoss,\n",
    "                                 #test_datasets=test_datasets_64,\n",
    "                                 chckpnt_dirname=\"results/iclr_imgs/\", \n",
    "                                 is_retrain=False, \n",
    "                                 train_split=skorch.dataset.CVSplit(0.1), # use 10% of data for validation \n",
    "                                 iterator_train__collate_fn=cntxt_trgt_collate(get_cntxt_trgt, \n",
    "                                                                               is_return_masks=True), \n",
    "                                 iterator_valid__collate_fn=cntxt_trgt_collate(get_cntxt_trgt, \n",
    "                                                                               is_return_masks=True),\n",
    "                                 patience=10,\n",
    "                                 seed=123) "
   ]
  },
  {
   "cell_type": "code",
   "execution_count": null,
   "metadata": {
    "ExecuteTime": {
     "end_time": "2019-11-09T08:21:18.370361Z",
     "start_time": "2019-11-09T08:21:18.234Z"
    }
   },
   "outputs": [],
   "source": [
    "trainers_grided_32 = train_models(train_datasets_32, \n",
    "                                 add_y_dim(models_grided_32, train_datasets_32),\n",
    "                                 NeuralProcessLoss,\n",
    "                                 #test_datasets=test_datasets_64,\n",
    "                                 chckpnt_dirname=\"results/iclr_imgs/\", \n",
    "                                 is_retrain=False, \n",
    "                                 train_split=skorch.dataset.CVSplit(0.1), # use 10% of data for validation \n",
    "                                 iterator_train__collate_fn=cntxt_trgt_collate(get_cntxt_trgt, \n",
    "                                                                               is_return_masks=True), \n",
    "                                 iterator_valid__collate_fn=cntxt_trgt_collate(get_cntxt_trgt, \n",
    "                                                                               is_return_masks=True),\n",
    "                                 patience=10,\n",
    "                                 seed=123) "
   ]
  },
  {
   "cell_type": "markdown",
   "metadata": {},
   "source": [
    "# One Shot Inference "
   ]
  },
  {
   "cell_type": "code",
   "execution_count": 10,
   "metadata": {
    "ExecuteTime": {
     "end_time": "2019-11-09T08:21:18.481019Z",
     "start_time": "2019-11-09T08:21:18.473598Z"
    }
   },
   "outputs": [
    {
     "ename": "ModuleNotFoundError",
     "evalue": "No module named 'neuralproc'",
     "output_type": "error",
     "traceback": [
      "\u001b[0;31m---------------------------------------------------------------------------\u001b[0m",
      "\u001b[0;31mModuleNotFoundError\u001b[0m                       Traceback (most recent call last)",
      "\u001b[0;32m<ipython-input-10-f1efc243bb6e>\u001b[0m in \u001b[0;36m<module>\u001b[0;34m\u001b[0m\n\u001b[1;32m      1\u001b[0m \u001b[0;32mfrom\u001b[0m \u001b[0mfunctools\u001b[0m \u001b[0;32mimport\u001b[0m \u001b[0mpartial\u001b[0m\u001b[0;34m\u001b[0m\u001b[0;34m\u001b[0m\u001b[0m\n\u001b[0;32m----> 2\u001b[0;31m \u001b[0;32mfrom\u001b[0m \u001b[0mneuralproc\u001b[0m\u001b[0;34m.\u001b[0m\u001b[0mutils\u001b[0m\u001b[0;34m.\u001b[0m\u001b[0mpredict\u001b[0m \u001b[0;32mimport\u001b[0m \u001b[0mAutoregressivePredictor\u001b[0m\u001b[0;34m,\u001b[0m \u001b[0mVanillaPredictor\u001b[0m\u001b[0;34m,\u001b[0m \u001b[0mGenNextAutoregressivePixelL1\u001b[0m\u001b[0;34m\u001b[0m\u001b[0;34m\u001b[0m\u001b[0m\n\u001b[0m\u001b[1;32m      3\u001b[0m \u001b[0;32mfrom\u001b[0m \u001b[0mutils\u001b[0m\u001b[0;34m.\u001b[0m\u001b[0mhelpers\u001b[0m \u001b[0;32mimport\u001b[0m \u001b[0mset_seed\u001b[0m\u001b[0;34m\u001b[0m\u001b[0;34m\u001b[0m\u001b[0m\n\u001b[1;32m      4\u001b[0m \u001b[0;32mfrom\u001b[0m \u001b[0mutils\u001b[0m\u001b[0;34m.\u001b[0m\u001b[0mvisualize\u001b[0m \u001b[0;32mimport\u001b[0m \u001b[0mplot_posterior_img\u001b[0m\u001b[0;34m,\u001b[0m \u001b[0mplot_qualitative_with_kde\u001b[0m\u001b[0;34m\u001b[0m\u001b[0;34m\u001b[0m\u001b[0m\n\u001b[1;32m      5\u001b[0m \u001b[0;32mfrom\u001b[0m \u001b[0mutils\u001b[0m\u001b[0;34m.\u001b[0m\u001b[0mvisualize\u001b[0m\u001b[0;34m.\u001b[0m\u001b[0mvisualize_imgs\u001b[0m \u001b[0;32mimport\u001b[0m \u001b[0mDFLT_FIGSIZE\u001b[0m\u001b[0;34m\u001b[0m\u001b[0;34m\u001b[0m\u001b[0m\n",
      "\u001b[0;31mModuleNotFoundError\u001b[0m: No module named 'neuralproc'"
     ]
    }
   ],
   "source": [
    "from functools import partial\n",
    "from neuralproc.utils.predict import AutoregressivePredictor, VanillaPredictor, GenNextAutoregressivePixelL1\n",
    "from utils.helpers import set_seed\n",
    "from utils.visualize import plot_posterior_img, plot_qualitative_with_kde\n",
    "from utils.visualize.visualize_imgs import DFLT_FIGSIZE\n"
   ]
  },
  {
   "cell_type": "markdown",
   "metadata": {},
   "source": [
    "## Missing at Random\n",
    "\n",
    "random with only 5 % of the data. The distribution show the distribution of log likelihood for the entire test set. The qualitative results are the images (from left to right) corresponding to 1% 50% and 99% percentile for `GridedCCP` folowed by 1% 50% and 99% percentile for `AttnCCP`.\n",
    "\n",
    "The first row is `GridedCCP`, while the second is `AttnCCP`.\n",
    "\n"
   ]
  },
  {
   "cell_type": "code",
   "execution_count": 11,
   "metadata": {
    "ExecuteTime": {
     "end_time": "2019-11-09T08:21:18.613948Z",
     "start_time": "2019-11-09T08:21:18.607457Z"
    }
   },
   "outputs": [
    {
     "ename": "NameError",
     "evalue": "name 'trainers_grided' is not defined",
     "output_type": "error",
     "traceback": [
      "\u001b[0;31m---------------------------------------------------------------------------\u001b[0m",
      "\u001b[0;31mNameError\u001b[0m                                 Traceback (most recent call last)",
      "\u001b[0;32m<ipython-input-11-9e79d92e2a45>\u001b[0m in \u001b[0;36m<module>\u001b[0;34m\u001b[0m\n\u001b[0;32m----> 1\u001b[0;31m \u001b[0mtrainers_compare\u001b[0m \u001b[0;34m=\u001b[0m \u001b[0mtrainers_grided\u001b[0m\u001b[0;34m.\u001b[0m\u001b[0mcopy\u001b[0m\u001b[0;34m(\u001b[0m\u001b[0;34m)\u001b[0m\u001b[0;34m\u001b[0m\u001b[0;34m\u001b[0m\u001b[0m\n\u001b[0m\u001b[1;32m      2\u001b[0m \u001b[0mtrainers_compare\u001b[0m\u001b[0;34m.\u001b[0m\u001b[0mupdate\u001b[0m\u001b[0;34m(\u001b[0m\u001b[0mtrainers_general\u001b[0m\u001b[0;34m)\u001b[0m\u001b[0;34m\u001b[0m\u001b[0;34m\u001b[0m\u001b[0m\n",
      "\u001b[0;31mNameError\u001b[0m: name 'trainers_grided' is not defined"
     ]
    }
   ],
   "source": [
    "trainers_compare = trainers_grided.copy()\n",
    "trainers_compare.update(trainers_general)"
   ]
  },
  {
   "cell_type": "code",
   "execution_count": 12,
   "metadata": {
    "ExecuteTime": {
     "end_time": "2019-11-09T08:21:18.724456Z",
     "start_time": "2019-11-09T08:21:18.715659Z"
    }
   },
   "outputs": [
    {
     "ename": "NameError",
     "evalue": "name 'test_datasets' is not defined",
     "output_type": "error",
     "traceback": [
      "\u001b[0;31m---------------------------------------------------------------------------\u001b[0m",
      "\u001b[0;31mNameError\u001b[0m                                 Traceback (most recent call last)",
      "\u001b[0;32m<ipython-input-12-480db3e3bc1a>\u001b[0m in \u001b[0;36m<module>\u001b[0;34m\u001b[0m\n\u001b[0;32m----> 1\u001b[0;31m \u001b[0;32mfor\u001b[0m \u001b[0mdata_name\u001b[0m\u001b[0;34m,\u001b[0m \u001b[0mtest_data\u001b[0m \u001b[0;32min\u001b[0m \u001b[0mtest_datasets\u001b[0m\u001b[0;34m.\u001b[0m\u001b[0mitems\u001b[0m\u001b[0;34m(\u001b[0m\u001b[0;34m)\u001b[0m\u001b[0;34m:\u001b[0m\u001b[0;34m\u001b[0m\u001b[0;34m\u001b[0m\u001b[0m\n\u001b[0m\u001b[1;32m      2\u001b[0m     test_loglike = plot_qualitative_with_kde({k:v for k,v in trainers_compare.items() if data_name in k},\n\u001b[1;32m      3\u001b[0m                                      \u001b[0mtest_data\u001b[0m\u001b[0;34m,\u001b[0m\u001b[0;34m\u001b[0m\u001b[0;34m\u001b[0m\u001b[0m\n\u001b[1;32m      4\u001b[0m                                      GridCntxtTrgtGetter(context_masker=RandomMasker(min_nnz=.05, max_nnz=.05, is_batch_share=True),\n\u001b[1;32m      5\u001b[0m                                                          target_masker=no_masker),\n",
      "\u001b[0;31mNameError\u001b[0m: name 'test_datasets' is not defined"
     ]
    }
   ],
   "source": [
    "for data_name, test_data in test_datasets.items():\n",
    "    test_loglike = plot_qualitative_with_kde({k:v for k,v in trainers_compare.items() if data_name in k},\n",
    "                                     test_data,\n",
    "                                     GridCntxtTrgtGetter(context_masker=RandomMasker(min_nnz=.05, max_nnz=.05, is_batch_share=True),\n",
    "                                                         target_masker=no_masker),\n",
    "                                      MeanPredictor=VanillaPredictor,\n",
    "                                     figsize=(11, 2), \n",
    "                                     percentiles=[1,50,99],\n",
    "                                     title=data_name)"
   ]
  },
  {
   "cell_type": "code",
   "execution_count": null,
   "metadata": {
    "ExecuteTime": {
     "end_time": "2019-11-09T08:21:18.725748Z",
     "start_time": "2019-11-09T08:21:18.481Z"
    }
   },
   "outputs": [],
   "source": [
    "fig, axes = plt.subplots(2,1, figsize=(15, 9))\n",
    "        \n",
    "for i, (data_name, data_test) in enumerate(test_datasets_64.items()):\n",
    "    _=plot_posterior_img(data_test, \n",
    "                         GridCntxtTrgtGetter(context_masker=RandomMasker(min_nnz=.2, max_nnz=.2, is_batch_share=True),\n",
    "                                             target_masker=no_masker), \n",
    "                         trainers_grided_64['{}/GridedCCP/run_0'.format(data_name)].module_.cpu(), \n",
    "                         MeanPredictor=VanillaPredictor,\n",
    "                         n_plots=4,\n",
    "                         is_uniform_grid=True,\n",
    "                         ax=axes[i])\n",
    "\n",
    "    axes[i].set_title(\"GridedCCP \" + data_name, fontsize=18)"
   ]
  },
  {
   "cell_type": "code",
   "execution_count": null,
   "metadata": {
    "ExecuteTime": {
     "end_time": "2019-11-09T08:21:18.726662Z",
     "start_time": "2019-11-09T08:21:18.483Z"
    }
   },
   "outputs": [],
   "source": [
    "fig, axes = plt.subplots(2,1, figsize=(15, 9))\n",
    "        \n",
    "for i, (data_name, data_test) in enumerate(test_datasets_32.items()):\n",
    "    _=plot_posterior_img(data_test, \n",
    "                         GridCntxtTrgtGetter(context_masker=RandomMasker(min_nnz=.2, max_nnz=.2, is_batch_share=True),\n",
    "                                             target_masker=no_masker), \n",
    "                         trainers_grided_32['{}/GridedCCP/run_0'.format(data_name)].module_.cpu(), \n",
    "                         MeanPredictor=VanillaPredictor,\n",
    "                         n_plots=4,\n",
    "                         is_uniform_grid=True,\n",
    "                         ax=axes[i])\n",
    "\n",
    "    axes[i].set_title(\"GridedCCP \" + data_name, fontsize=18)"
   ]
  },
  {
   "cell_type": "code",
   "execution_count": null,
   "metadata": {
    "ExecuteTime": {
     "end_time": "2019-11-09T08:21:18.727537Z",
     "start_time": "2019-11-09T08:21:18.485Z"
    }
   },
   "outputs": [],
   "source": [
    "fig, axes = plt.subplots(1,1, figsize=(15, 9))\n",
    "        \n",
    "for i, (data_name, data_test) in enumerate(test_datasets.items()):\n",
    "    if data_name == \"zs-multi-mnist\":\n",
    "        _=plot_posterior_img(data_test, \n",
    "                             GridCntxtTrgtGetter(context_masker=RandomMasker(min_nnz=.2, max_nnz=.2, is_batch_share=True),\n",
    "                                                 target_masker=no_masker), \n",
    "                             trainers_grided['{}/GridedCCP/run_0'.format(data_name)].module_.cpu(), \n",
    "                             MeanPredictor=partial(AutoregressivePredictor, \n",
    "                                                   gen_autoregressive_trgts=GenNextAutoregressivePixelL1(1)),\n",
    "                             n_plots=8,\n",
    "                             is_uniform_grid=True,\n",
    "                             ax=axes)\n",
    "\n",
    "        axes.set_title(\"GridedCCP \" + data_name, fontsize=18)"
   ]
  },
  {
   "cell_type": "code",
   "execution_count": null,
   "metadata": {
    "ExecuteTime": {
     "end_time": "2019-11-09T08:21:18.728435Z",
     "start_time": "2019-11-09T08:21:18.487Z"
    }
   },
   "outputs": [],
   "source": [
    "fig, axes = plt.subplots(1,1, figsize=(15, 9))\n",
    "        \n",
    "for i, (data_name, data_test) in enumerate(test_datasets.items()):\n",
    "    if data_name == \"zs-multi-mnist\":\n",
    "        _=plot_posterior_img(data_test, \n",
    "                             GridCntxtTrgtGetter(context_masker=RandomMasker(min_nnz=.2, max_nnz=.2, is_batch_share=True),\n",
    "                                                 target_masker=no_masker), \n",
    "                             trainers_grided['{}/GridedCCP/run_0'.format(data_name)].module_.cpu(), \n",
    "                             MeanPredictor=VanillaPredictor,\n",
    "                             n_plots=8,\n",
    "                             is_uniform_grid=True,\n",
    "                             ax=axes)\n",
    "\n",
    "        axes.set_title(\"GridedCCP \" + data_name, fontsize=18)"
   ]
  },
  {
   "cell_type": "markdown",
   "metadata": {},
   "source": [
    "## Structured Missing\n",
    "\n",
    "### Horizontal Half Mask"
   ]
  },
  {
   "cell_type": "code",
   "execution_count": 13,
   "metadata": {
    "ExecuteTime": {
     "end_time": "2019-11-09T08:21:19.782687Z",
     "start_time": "2019-11-09T08:21:18.854658Z"
    }
   },
   "outputs": [
    {
     "ename": "NameError",
     "evalue": "name 'test_datasets_64' is not defined",
     "output_type": "error",
     "traceback": [
      "\u001b[0;31m---------------------------------------------------------------------------\u001b[0m",
      "\u001b[0;31mNameError\u001b[0m                                 Traceback (most recent call last)",
      "\u001b[0;32m<ipython-input-13-2a91940b4b0d>\u001b[0m in \u001b[0;36m<module>\u001b[0;34m\u001b[0m\n\u001b[1;32m      1\u001b[0m \u001b[0mfig\u001b[0m\u001b[0;34m,\u001b[0m \u001b[0maxes\u001b[0m \u001b[0;34m=\u001b[0m \u001b[0mplt\u001b[0m\u001b[0;34m.\u001b[0m\u001b[0msubplots\u001b[0m\u001b[0;34m(\u001b[0m\u001b[0;36m2\u001b[0m\u001b[0;34m,\u001b[0m\u001b[0;36m1\u001b[0m\u001b[0;34m,\u001b[0m \u001b[0mfigsize\u001b[0m\u001b[0;34m=\u001b[0m\u001b[0;34m(\u001b[0m\u001b[0;36m15\u001b[0m\u001b[0;34m,\u001b[0m \u001b[0;36m9\u001b[0m\u001b[0;34m)\u001b[0m\u001b[0;34m)\u001b[0m\u001b[0;34m\u001b[0m\u001b[0;34m\u001b[0m\u001b[0m\n\u001b[1;32m      2\u001b[0m \u001b[0;34m\u001b[0m\u001b[0m\n\u001b[0;32m----> 3\u001b[0;31m \u001b[0;32mfor\u001b[0m \u001b[0mi\u001b[0m\u001b[0;34m,\u001b[0m \u001b[0;34m(\u001b[0m\u001b[0mdata_name\u001b[0m\u001b[0;34m,\u001b[0m \u001b[0mdata_test\u001b[0m\u001b[0;34m)\u001b[0m \u001b[0;32min\u001b[0m \u001b[0menumerate\u001b[0m\u001b[0;34m(\u001b[0m\u001b[0mtest_datasets_64\u001b[0m\u001b[0;34m.\u001b[0m\u001b[0mitems\u001b[0m\u001b[0;34m(\u001b[0m\u001b[0;34m)\u001b[0m\u001b[0;34m)\u001b[0m\u001b[0;34m:\u001b[0m\u001b[0;34m\u001b[0m\u001b[0;34m\u001b[0m\u001b[0m\n\u001b[0m\u001b[1;32m      4\u001b[0m     _=plot_posterior_img(data_test, \n\u001b[1;32m      5\u001b[0m                          GridCntxtTrgtGetter(context_masker=RandomMasker(min_nnz=47, max_nnz=47, is_batch_share=True),\n",
      "\u001b[0;31mNameError\u001b[0m: name 'test_datasets_64' is not defined"
     ]
    },
    {
     "data": {
      "image/png": "[encoded data removed]",
      "text/plain": [
       "<Figure size 1080x648 with 2 Axes>"
      ]
     },
     "metadata": {
      "image/png": {
       "height": 523,
       "width": 882
      },
      "needs_background": "light"
     },
     "output_type": "display_data"
    }
   ],
   "source": [
    "fig, axes = plt.subplots(2,1, figsize=(15, 9))\n",
    "        \n",
    "for i, (data_name, data_test) in enumerate(test_datasets_64.items()):\n",
    "    _=plot_posterior_img(data_test, \n",
    "                         GridCntxtTrgtGetter(context_masker=RandomMasker(min_nnz=47, max_nnz=47, is_batch_share=True),\n",
    "                                             target_masker=no_masker), \n",
    "                         trainers_grided_64['{}/GridedCCP/run_0'.format(data_name)].module_.cpu(), \n",
    "                         MeanPredictor=VanillaPredictor,\n",
    "                         n_plots=4,\n",
    "                         is_uniform_grid=True,\n",
    "                         ax=axes[i])\n",
    "\n",
    "    axes[i].set_title(\"GridedCCP \" + data_name, fontsize=18)"
   ]
  },
  {
   "cell_type": "code",
   "execution_count": null,
   "metadata": {
    "ExecuteTime": {
     "end_time": "2019-11-09T08:21:19.784597Z",
     "start_time": "2019-11-09T08:21:18.605Z"
    }
   },
   "outputs": [],
   "source": [
    "fig, axes = plt.subplots(len(test_datasets_32),1, figsize=(15, 9))\n",
    "\n",
    "if len(test_datasets_32) ==1:\n",
    "    axes = [axes]\n",
    "        \n",
    "for i, (data_name, data_test) in enumerate(test_datasets_32.items()):\n",
    "    _=plot_posterior_img(data_test, \n",
    "                         GridCntxtTrgtGetter(context_masker=partial(half_masker, dim=1),\n",
    "                                             target_masker=no_masker), \n",
    "                         trainers_grided_32['{}/GridedCCP/run_0'.format(data_name)].module_.cpu(), \n",
    "                         MeanPredictor=VanillaPredictor,\n",
    "                         n_plots=4,\n",
    "                         is_uniform_grid=True,\n",
    "                         ax=axes[i])\n",
    "    \n",
    "    axes[i].set_title(\"GridedCCP \" + data_name, fontsize=18)"
   ]
  },
  {
   "cell_type": "code",
   "execution_count": null,
   "metadata": {
    "ExecuteTime": {
     "end_time": "2019-11-09T08:21:19.785591Z",
     "start_time": "2019-11-09T08:21:18.607Z"
    }
   },
   "outputs": [],
   "source": [
    "fig, axes = plt.subplots(len(test_datasets_64),1, figsize=(15, 9))\n",
    "\n",
    "if len(test_datasets_64) ==1:\n",
    "    axes = [axes]\n",
    "        \n",
    "for i, (data_name, data_test) in enumerate(test_datasets_64.items()):\n",
    "    _=plot_posterior_img(data_test, \n",
    "                         GridCntxtTrgtGetter(context_masker=partial(half_masker, dim=1),\n",
    "                                             target_masker=no_masker), \n",
    "                         trainers_grided_64['{}/GridedCCP/run_0'.format(data_name)].module_.cpu(), \n",
    "                         MeanPredictor=VanillaPredictor,\n",
    "                         n_plots=4,\n",
    "                         is_uniform_grid=True,\n",
    "                         ax=axes[i])\n",
    "    \n",
    "    axes[i].set_title(\"GridedCCP \" + data_name, fontsize=18)"
   ]
  },
  {
   "cell_type": "markdown",
   "metadata": {},
   "source": [
    "### Vertical Half Mask"
   ]
  },
  {
   "cell_type": "code",
   "execution_count": null,
   "metadata": {
    "ExecuteTime": {
     "end_time": "2019-11-09T08:21:19.786513Z",
     "start_time": "2019-11-09T08:21:18.739Z"
    }
   },
   "outputs": [],
   "source": [
    "fig, axes = plt.subplots(len(test_datasets_32),1, figsize=(15, 9))\n",
    "\n",
    "if len(test_datasets_32) ==1:\n",
    "    axes = [axes]\n",
    "        \n",
    "for i, (data_name, data_test) in enumerate(test_datasets_32.items()):\n",
    "    _=plot_posterior_img(data_test, \n",
    "                         GridCntxtTrgtGetter(context_masker=partial(half_masker, dim=0),\n",
    "                                             target_masker=no_masker), \n",
    "                         trainers_grided_32['{}/GridedCCP/run_0'.format(data_name)].module_.cpu(), \n",
    "                         MeanPredictor=VanillaPredictor,\n",
    "                         n_plots=4,\n",
    "                         is_uniform_grid=True,\n",
    "                         ax=axes[i])\n",
    "    \n",
    "    axes[i].set_title(\"GridedCCP \" + data_name, fontsize=18)"
   ]
  },
  {
   "cell_type": "code",
   "execution_count": null,
   "metadata": {
    "ExecuteTime": {
     "end_time": "2019-11-09T08:21:19.787421Z",
     "start_time": "2019-11-09T08:21:18.742Z"
    }
   },
   "outputs": [],
   "source": [
    "fig, axes = plt.subplots(len(test_datasets_64),1, figsize=(15, 9))\n",
    "\n",
    "if len(test_datasets_64) ==1:\n",
    "    axes = [axes]\n",
    "        \n",
    "for i, (data_name, data_test) in enumerate(test_datasets_64.items()):\n",
    "    _=plot_posterior_img(data_test, \n",
    "                         GridCntxtTrgtGetter(context_masker=partial(half_masker, dim=0),\n",
    "                                             target_masker=no_masker), \n",
    "                         trainers_grided_64['{}/GridedCCP/run_0'.format(data_name)].module_.cpu(), \n",
    "                         MeanPredictor=VanillaPredictor,\n",
    "                         n_plots=4,\n",
    "                         is_uniform_grid=True,\n",
    "                         ax=axes[i])\n",
    "    \n",
    "    axes[i].set_title(\"GridedCCP \" + data_name, fontsize=18)"
   ]
  },
  {
   "cell_type": "markdown",
   "metadata": {},
   "source": [
    "# Autoregressive Inference \n",
    "\n",
    "Autoregressive is as James suggested : predict all neighbors (1 manhattan distance) of context, treat it as context, predict next neighbours."
   ]
  },
  {
   "cell_type": "code",
   "execution_count": null,
   "metadata": {
    "ExecuteTime": {
     "end_time": "2019-11-09T08:21:19.788326Z",
     "start_time": "2019-11-09T08:21:18.852Z"
    }
   },
   "outputs": [],
   "source": [
    "for data_name, test_data in test_datasets.items():\n",
    "    test_loglike = plot_qualitative_with_kde({k:v for k,v in trainers_grided.items() if data_name in k},\n",
    "                                     test_data,\n",
    "                                     GridCntxtTrgtGetter(context_masker=RandomMasker(min_nnz=.05, max_nnz=.05, is_batch_share=True),\n",
    "                                                         target_masker=no_masker),\n",
    "                                      MeanPredictor=AutoregressivePredictor,\n",
    "                                     figsize=(6, 2), \n",
    "                                     percentiles=[1,50,99],\n",
    "                                     title=data_name)"
   ]
  },
  {
   "cell_type": "code",
   "execution_count": null,
   "metadata": {
    "ExecuteTime": {
     "end_time": "2019-11-09T08:21:19.789240Z",
     "start_time": "2019-11-09T08:21:18.854Z"
    }
   },
   "outputs": [],
   "source": [
    "AutoregressivePredictor??"
   ]
  },
  {
   "cell_type": "code",
   "execution_count": null,
   "metadata": {
    "ExecuteTime": {
     "end_time": "2019-11-09T08:21:19.790151Z",
     "start_time": "2019-11-09T08:21:18.855Z"
    }
   },
   "outputs": [],
   "source": [
    "fig, axes = plt.subplots(len(test_datasets_32),1, figsize=(15, 9))\n",
    "\n",
    "if len(test_datasets_32) ==1:\n",
    "    axes = [axes]\n",
    "        \n",
    "for i, (data_name, data_test) in enumerate(test_datasets_32.items()):\n",
    "    _=plot_posterior_img(data_test, \n",
    "                         GridCntxtTrgtGetter(context_masker=partial(half_masker, dim=1), \n",
    "                                             target_masker=no_masker), \n",
    "                         trainers_grided_32['{}/GridedCCP/run_0'.format(data_name)].module_.cpu(), \n",
    "                         MeanPredictor=partial(AutoregressivePredictor, \n",
    "                                               gen_autoregressive_trgts=GenNextAutoregressivePixelL1(3)),\n",
    "                         n_plots=4,\n",
    "                         is_uniform_grid=True,\n",
    "                         ax=axes[i])\n",
    "    \n",
    "    axes[i].set_title(\"Autoregressive GridedCCP \" + data_name, fontsize=18)"
   ]
  },
  {
   "cell_type": "code",
   "execution_count": null,
   "metadata": {
    "ExecuteTime": {
     "end_time": "2019-11-09T08:21:19.791059Z",
     "start_time": "2019-11-09T08:21:18.857Z"
    }
   },
   "outputs": [],
   "source": [
    "fig, axes = plt.subplots(len(test_datasets_64),1, figsize=(15, 9))\n",
    "\n",
    "if len(test_datasets_64) ==1:\n",
    "    axes = [axes]\n",
    "        \n",
    "for i, (data_name, data_test) in enumerate(test_datasets_64.items()):\n",
    "    _=plot_posterior_img(data_test, \n",
    "                         GridCntxtTrgtGetter(context_masker=partial(half_masker, dim=1), \n",
    "                                             target_masker=no_masker), \n",
    "                         trainers_grided_64['{}/GridedCCP/run_0'.format(data_name)].module_.cpu(), \n",
    "                         MeanPredictor=partial(AutoregressivePredictor, \n",
    "                                               gen_autoregressive_trgts=GenNextAutoregressivePixelL1(3)),\n",
    "                         n_plots=4,\n",
    "                         is_uniform_grid=True,\n",
    "                         ax=axes[i])\n",
    "    \n",
    "    axes[i].set_title(\"Autoregressive GridedCCP \" + data_name, fontsize=18)"
   ]
  },
  {
   "cell_type": "markdown",
   "metadata": {},
   "source": [
    "# CelebA64\n",
    "\n",
    "I did not plot all CelebA64, as not all models are trained yet. Here I show `GridedUnetCCP` which finished training."
   ]
  },
  {
   "cell_type": "code",
   "execution_count": null,
   "metadata": {
    "ExecuteTime": {
     "end_time": "2019-11-09T08:21:19.791959Z",
     "start_time": "2019-11-09T08:21:18.965Z"
    }
   },
   "outputs": [],
   "source": [
    "train_datasets64 = dict(celeba64=celeba64_train)\n",
    "test_datasets64 = dict(celeba64=celeba64_test)"
   ]
  },
  {
   "cell_type": "code",
   "execution_count": null,
   "metadata": {
    "ExecuteTime": {
     "end_time": "2019-11-09T08:21:19.792864Z",
     "start_time": "2019-11-09T08:21:18.966Z"
    }
   },
   "outputs": [],
   "source": [
    "trainers_grided64 = train_models(train_datasets64, \n",
    "                                 add_y_dim(dict(GridedUnetCCP=GridedUnetCCP), train_datasets64),\n",
    "                                 NeuralProcessLoss,\n",
    "                                 test_datasets=test_datasets64,\n",
    "                                 chckpnt_dirname=\"results/neural_process_imgs/\", \n",
    "                                 is_retrain=False, \n",
    "                                 train_split=skorch.dataset.CVSplit(0.1), # use 10% of data for validation \n",
    "                                 iterator_train__collate_fn=cntxt_trgt_collate(get_cntxt_trgt, \n",
    "                                                                               is_return_masks=True), \n",
    "                                 iterator_valid__collate_fn=cntxt_trgt_collate(get_cntxt_trgt, \n",
    "                                                                               is_return_masks=True),\n",
    "                                 patience=10,\n",
    "                                 seed=123) "
   ]
  },
  {
   "cell_type": "markdown",
   "metadata": {},
   "source": [
    "## Oneshot Prediction"
   ]
  },
  {
   "cell_type": "code",
   "execution_count": null,
   "metadata": {
    "ExecuteTime": {
     "end_time": "2019-11-09T08:21:19.793771Z",
     "start_time": "2019-11-09T08:21:19.069Z"
    }
   },
   "outputs": [],
   "source": [
    "for data_name, test_data in test_datasets64.items():\n",
    "    test_loglike = plot_qualitative_with_kde({k:v for k,v in trainers_grided64.items() if data_name in k},\n",
    "                                     test_data,\n",
    "                                     GridCntxtTrgtGetter(context_masker=RandomMasker(min_nnz=.1, max_nnz=.1, is_batch_share=True),\n",
    "                                                         target_masker=no_masker),\n",
    "                                      MeanPredictor=VanillaPredictor,\n",
    "                                     figsize=(6, 2), \n",
    "                                     percentiles=[1,50,99],\n",
    "                                     title=data_name)"
   ]
  },
  {
   "cell_type": "code",
   "execution_count": null,
   "metadata": {
    "ExecuteTime": {
     "end_time": "2019-11-09T08:21:19.794677Z",
     "start_time": "2019-11-09T08:21:19.071Z"
    }
   },
   "outputs": [],
   "source": [
    "n_datasets = len(test_datasets64)\n",
    "\n",
    "fig, axes = plt.subplots(n_datasets,1, figsize=(15, 4))\n",
    "\n",
    "if n_datasets ==1:\n",
    "    axes = [axes]\n",
    "        \n",
    "for i, (data_name, data_test) in enumerate(test_datasets64.items()):\n",
    "    _=plot_posterior_img(data_test, \n",
    "                         GridCntxtTrgtGetter(context_masker=partial(half_masker, dim=1), \n",
    "                                             target_masker=no_masker), \n",
    "                         trainers_grided64['{}/GridedUnetCCP/run_0'.format(data_name)].module_.cpu(), \n",
    "                         MeanPredictor=VanillaPredictor,\n",
    "                         n_plots=4,\n",
    "                         is_uniform_grid=True,\n",
    "                         ax=axes[i])\n",
    "    \n",
    "    axes[i].set_title(\"Autoregressive GridedUnetCCP \" + data_name, fontsize=18)"
   ]
  },
  {
   "cell_type": "code",
   "execution_count": null,
   "metadata": {
    "ExecuteTime": {
     "end_time": "2019-11-09T08:21:19.795575Z",
     "start_time": "2019-11-09T08:21:19.072Z"
    }
   },
   "outputs": [],
   "source": [
    "n_datasets = len(test_datasets64)\n",
    "\n",
    "fig, axes = plt.subplots(n_datasets,1, figsize=(15, 4))\n",
    "\n",
    "if n_datasets ==1:\n",
    "    axes = [axes]\n",
    "        \n",
    "for i, (data_name, data_test) in enumerate(test_datasets64.items()):\n",
    "    _=plot_posterior_img(data_test, \n",
    "                         GridCntxtTrgtGetter(context_masker=partial(half_masker, dim=0), \n",
    "                                             target_masker=no_masker), \n",
    "                         trainers_grided64['{}/GridedUnetCCP/run_0'.format(data_name)].module_.cpu(), \n",
    "                         MeanPredictor=VanillaPredictor,\n",
    "                         n_plots=4,\n",
    "                         is_uniform_grid=True,\n",
    "                         ax=axes[i])\n",
    "    \n",
    "    axes[i].set_title(\"Autoregressive GridedUnetCCP \" + data_name, fontsize=18)"
   ]
  },
  {
   "cell_type": "markdown",
   "metadata": {},
   "source": [
    "## Autoregressive Prediction"
   ]
  },
  {
   "cell_type": "code",
   "execution_count": null,
   "metadata": {
    "ExecuteTime": {
     "end_time": "2019-11-09T08:21:19.796487Z",
     "start_time": "2019-11-09T08:21:19.177Z"
    }
   },
   "outputs": [],
   "source": [
    "for data_name, test_data in test_datasets64.items():\n",
    "    test_loglike = plot_qualitative_with_kde({k:v for k,v in trainers_grided64.items() if data_name in k},\n",
    "                                     test_data,\n",
    "                                     GridCntxtTrgtGetter(context_masker=RandomMasker(min_nnz=.1, max_nnz=.1, is_batch_share=True),\n",
    "                                                         target_masker=no_masker),\n",
    "                                      MeanPredictor=AutoregressivePredictor,\n",
    "                                     figsize=(6, 2), \n",
    "                                     percentiles=[1,50,99],\n",
    "                                     title=data_name)"
   ]
  },
  {
   "cell_type": "code",
   "execution_count": null,
   "metadata": {
    "ExecuteTime": {
     "end_time": "2019-11-09T08:21:19.797383Z",
     "start_time": "2019-11-09T08:21:19.178Z"
    }
   },
   "outputs": [],
   "source": [
    "n_datasets = len(test_datasets64)\n",
    "\n",
    "fig, axes = plt.subplots(n_datasets,1, figsize=(15, 4))\n",
    "\n",
    "if n_datasets ==1:\n",
    "    axes = [axes]\n",
    "        \n",
    "for i, (data_name, data_test) in enumerate(test_datasets64.items()):\n",
    "    _=plot_posterior_img(data_test, \n",
    "                         GridCntxtTrgtGetter(context_masker=partial(half_masker, dim=1), \n",
    "                                             target_masker=no_masker), \n",
    "                         trainers_grided64['{}/GridedUnetCCP/run_0'.format(data_name)].module_.cpu(), \n",
    "                         MeanPredictor=AutoregressivePredictor,\n",
    "                         n_plots=4,\n",
    "                         is_uniform_grid=True,\n",
    "                         ax=axes[i])\n",
    "    \n",
    "    axes[i].set_title(\"Autoregressive GridedUnetCCP \" + data_name, fontsize=18)"
   ]
  },
  {
   "cell_type": "code",
   "execution_count": null,
   "metadata": {
    "ExecuteTime": {
     "end_time": "2019-11-09T08:21:19.798295Z",
     "start_time": "2019-11-09T08:21:19.179Z"
    }
   },
   "outputs": [],
   "source": [
    "n_datasets = len(test_datasets64)\n",
    "\n",
    "fig, axes = plt.subplots(n_datasets,1, figsize=(15, 4))\n",
    "\n",
    "if n_datasets ==1:\n",
    "    axes = [axes]\n",
    "        \n",
    "for i, (data_name, data_test) in enumerate(test_datasets64.items()):\n",
    "    _=plot_posterior_img(data_test, \n",
    "                         GridCntxtTrgtGetter(context_masker=partial(half_masker, dim=0), \n",
    "                                             target_masker=no_masker), \n",
    "                         trainers_grided64['{}/GridedUnetCCP/run_0'.format(data_name)].module_.cpu(), \n",
    "                         MeanPredictor=AutoregressivePredictor,\n",
    "                         n_plots=4,\n",
    "                         is_uniform_grid=True,\n",
    "                         ax=axes[i])\n",
    "    \n",
    "    axes[i].set_title(\"Autoregressive GridedUnetCCP \" + data_name, fontsize=18)"
   ]
  },
  {
   "cell_type": "code",
   "execution_count": null,
   "metadata": {},
   "outputs": [],
   "source": []
  },
  {
   "cell_type": "code",
   "execution_count": null,
   "metadata": {},
   "outputs": [],
   "source": []
  },
  {
   "cell_type": "code",
   "execution_count": null,
   "metadata": {},
   "outputs": [],
   "source": []
  },
  {
   "cell_type": "code",
   "execution_count": null,
   "metadata": {},
   "outputs": [],
   "source": []
  }
 ],
 "metadata": {
  "kernelspec": {
   "display_name": "Python 3",
   "language": "python",
   "name": "python3"
  },
  "language_info": {
   "codemirror_mode": {
    "name": "ipython",
    "version": 3
   },
   "file_extension": ".py",
   "mimetype": "text/x-python",
   "name": "python",
   "nbconvert_exporter": "python",
   "pygments_lexer": "ipython3",
   "version": "3.7.3"
  },
  "toc": {
   "base_numbering": 1,
   "nav_menu": {},
   "number_sections": true,
   "sideBar": true,
   "skip_h1_title": true,
   "title_cell": "Table of Contents",
   "title_sidebar": "Contents",
   "toc_cell": true,
   "toc_position": {},
   "toc_section_display": true,
   "toc_window_display": false
  }
 },
 "nbformat": 4,
 "nbformat_minor": 2
}
